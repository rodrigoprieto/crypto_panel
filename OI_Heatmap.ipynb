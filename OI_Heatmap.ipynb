{
  "nbformat": 4,
  "nbformat_minor": 0,
  "metadata": {
    "colab": {
      "provenance": [],
      "authorship_tag": "ABX9TyM2i7uXHZ/pr11Wn52kFVfx",
      "include_colab_link": true
    },
    "kernelspec": {
      "name": "python3",
      "display_name": "Python 3"
    },
    "language_info": {
      "name": "python"
    },
    "gpuClass": "standard"
  },
  "cells": [
    {
      "cell_type": "markdown",
      "metadata": {
        "id": "view-in-github",
        "colab_type": "text"
      },
      "source": [
        "<a href=\"https://colab.research.google.com/github/rodrigoprieto/crypto_panel/blob/master/OI_Heatmap.ipynb\" target=\"_parent\"><img src=\"https://colab.research.google.com/assets/colab-badge.svg\" alt=\"Open In Colab\"/></a>"
      ]
    },
    {
      "cell_type": "markdown",
      "source": [
        "Ejecutar primero la siguiente celda para verificar que NO estámos conectandonos a una máquina de 'US', dado que Binance no permite conectarse via API desde United States."
      ],
      "metadata": {
        "id": "Ff8fCMmGYyGL"
      }
    },
    {
      "cell_type": "code",
      "source": [
        "!curl ipinfo.io"
      ],
      "metadata": {
        "colab": {
          "base_uri": "https://localhost:8080/"
        },
        "id": "foNq-TvIFuzN",
        "outputId": "399437e3-1015-4837-8e2a-426122c22caa"
      },
      "execution_count": 2,
      "outputs": [
        {
          "output_type": "stream",
          "name": "stdout",
          "text": [
            "{\n",
            "  \"ip\": \"35.204.93.96\",\n",
            "  \"hostname\": \"96.93.204.35.bc.googleusercontent.com\",\n",
            "  \"city\": \"Groningen\",\n",
            "  \"region\": \"Groningen\",\n",
            "  \"country\": \"NL\",\n",
            "  \"loc\": \"53.2253,6.5813\",\n",
            "  \"org\": \"AS396982 Google LLC\",\n",
            "  \"postal\": \"9713\",\n",
            "  \"timezone\": \"Europe/Amsterdam\",\n",
            "  \"readme\": \"https://ipinfo.io/missingauth\"\n",
            "}"
          ]
        }
      ]
    },
    {
      "cell_type": "markdown",
      "source": [
        "Instalamos la API de Binance"
      ],
      "metadata": {
        "id": "2QVhJGEOY_B6"
      }
    },
    {
      "cell_type": "code",
      "source": [
        "!pip install python-binance"
      ],
      "metadata": {
        "id": "xT1MydDQvpOw",
        "colab": {
          "base_uri": "https://localhost:8080/"
        },
        "outputId": "4e9a675c-2dd6-4001-c58a-a2a2d535de2c"
      },
      "execution_count": 3,
      "outputs": [
        {
          "output_type": "stream",
          "name": "stdout",
          "text": [
            "Looking in indexes: https://pypi.org/simple, https://us-python.pkg.dev/colab-wheels/public/simple/\n",
            "Collecting python-binance\n",
            "  Downloading python_binance-1.0.17-py2.py3-none-any.whl (67 kB)\n",
            "\u001b[2K     \u001b[90m━━━━━━━━━━━━━━━━━━━━━━━━━━━━━━━━━━━━━━━━\u001b[0m \u001b[32m67.6/67.6 KB\u001b[0m \u001b[31m5.0 MB/s\u001b[0m eta \u001b[36m0:00:00\u001b[0m\n",
            "\u001b[?25hCollecting dateparser\n",
            "  Downloading dateparser-1.1.7-py2.py3-none-any.whl (293 kB)\n",
            "\u001b[2K     \u001b[90m━━━━━━━━━━━━━━━━━━━━━━━━━━━━━━━━━━━━━━\u001b[0m \u001b[32m293.4/293.4 KB\u001b[0m \u001b[31m21.6 MB/s\u001b[0m eta \u001b[36m0:00:00\u001b[0m\n",
            "\u001b[?25hRequirement already satisfied: six in /usr/local/lib/python3.9/dist-packages (from python-binance) (1.15.0)\n",
            "Collecting websockets\n",
            "  Downloading websockets-10.4-cp39-cp39-manylinux_2_5_x86_64.manylinux1_x86_64.manylinux_2_17_x86_64.manylinux2014_x86_64.whl (106 kB)\n",
            "\u001b[2K     \u001b[90m━━━━━━━━━━━━━━━━━━━━━━━━━━━━━━━━━━━━━━\u001b[0m \u001b[32m106.5/106.5 KB\u001b[0m \u001b[31m10.5 MB/s\u001b[0m eta \u001b[36m0:00:00\u001b[0m\n",
            "\u001b[?25hCollecting pycryptodome\n",
            "  Downloading pycryptodome-3.17-cp35-abi3-manylinux_2_17_x86_64.manylinux2014_x86_64.whl (2.1 MB)\n",
            "\u001b[2K     \u001b[90m━━━━━━━━━━━━━━━━━━━━━━━━━━━━━━━━━━━━━━━━\u001b[0m \u001b[32m2.1/2.1 MB\u001b[0m \u001b[31m57.2 MB/s\u001b[0m eta \u001b[36m0:00:00\u001b[0m\n",
            "\u001b[?25hRequirement already satisfied: requests in /usr/local/lib/python3.9/dist-packages (from python-binance) (2.25.1)\n",
            "Collecting aiohttp\n",
            "  Downloading aiohttp-3.8.4-cp39-cp39-manylinux_2_17_x86_64.manylinux2014_x86_64.whl (1.0 MB)\n",
            "\u001b[2K     \u001b[90m━━━━━━━━━━━━━━━━━━━━━━━━━━━━━━━━━━━━━━━━\u001b[0m \u001b[32m1.0/1.0 MB\u001b[0m \u001b[31m44.3 MB/s\u001b[0m eta \u001b[36m0:00:00\u001b[0m\n",
            "\u001b[?25hCollecting ujson\n",
            "  Downloading ujson-5.7.0-cp39-cp39-manylinux_2_17_x86_64.manylinux2014_x86_64.whl (52 kB)\n",
            "\u001b[2K     \u001b[90m━━━━━━━━━━━━━━━━━━━━━━━━━━━━━━━━━━━━━━━━\u001b[0m \u001b[32m52.8/52.8 KB\u001b[0m \u001b[31m5.5 MB/s\u001b[0m eta \u001b[36m0:00:00\u001b[0m\n",
            "\u001b[?25hCollecting async-timeout<5.0,>=4.0.0a3\n",
            "  Downloading async_timeout-4.0.2-py3-none-any.whl (5.8 kB)\n",
            "Collecting yarl<2.0,>=1.0\n",
            "  Downloading yarl-1.8.2-cp39-cp39-manylinux_2_17_x86_64.manylinux2014_x86_64.whl (264 kB)\n",
            "\u001b[2K     \u001b[90m━━━━━━━━━━━━━━━━━━━━━━━━━━━━━━━━━━━━━━\u001b[0m \u001b[32m264.6/264.6 KB\u001b[0m \u001b[31m23.9 MB/s\u001b[0m eta \u001b[36m0:00:00\u001b[0m\n",
            "\u001b[?25hCollecting charset-normalizer<4.0,>=2.0\n",
            "  Downloading charset_normalizer-3.1.0-cp39-cp39-manylinux_2_17_x86_64.manylinux2014_x86_64.whl (199 kB)\n",
            "\u001b[2K     \u001b[90m━━━━━━━━━━━━━━━━━━━━━━━━━━━━━━━━━━━━━━\u001b[0m \u001b[32m199.2/199.2 KB\u001b[0m \u001b[31m20.9 MB/s\u001b[0m eta \u001b[36m0:00:00\u001b[0m\n",
            "\u001b[?25hRequirement already satisfied: attrs>=17.3.0 in /usr/local/lib/python3.9/dist-packages (from aiohttp->python-binance) (22.2.0)\n",
            "Collecting aiosignal>=1.1.2\n",
            "  Downloading aiosignal-1.3.1-py3-none-any.whl (7.6 kB)\n",
            "Collecting multidict<7.0,>=4.5\n",
            "  Downloading multidict-6.0.4-cp39-cp39-manylinux_2_17_x86_64.manylinux2014_x86_64.whl (114 kB)\n",
            "\u001b[2K     \u001b[90m━━━━━━━━━━━━━━━━━━━━━━━━━━━━━━━━━━━━━━\u001b[0m \u001b[32m114.2/114.2 KB\u001b[0m \u001b[31m12.5 MB/s\u001b[0m eta \u001b[36m0:00:00\u001b[0m\n",
            "\u001b[?25hCollecting frozenlist>=1.1.1\n",
            "  Downloading frozenlist-1.3.3-cp39-cp39-manylinux_2_5_x86_64.manylinux1_x86_64.manylinux_2_17_x86_64.manylinux2014_x86_64.whl (158 kB)\n",
            "\u001b[2K     \u001b[90m━━━━━━━━━━━━━━━━━━━━━━━━━━━━━━━━━━━━━━\u001b[0m \u001b[32m158.8/158.8 KB\u001b[0m \u001b[31m17.6 MB/s\u001b[0m eta \u001b[36m0:00:00\u001b[0m\n",
            "\u001b[?25hRequirement already satisfied: pytz in /usr/local/lib/python3.9/dist-packages (from dateparser->python-binance) (2022.7.1)\n",
            "Requirement already satisfied: regex!=2019.02.19,!=2021.8.27 in /usr/local/lib/python3.9/dist-packages (from dateparser->python-binance) (2022.6.2)\n",
            "Requirement already satisfied: tzlocal in /usr/local/lib/python3.9/dist-packages (from dateparser->python-binance) (4.2)\n",
            "Requirement already satisfied: python-dateutil in /usr/local/lib/python3.9/dist-packages (from dateparser->python-binance) (2.8.2)\n",
            "Requirement already satisfied: urllib3<1.27,>=1.21.1 in /usr/local/lib/python3.9/dist-packages (from requests->python-binance) (1.26.14)\n",
            "Requirement already satisfied: certifi>=2017.4.17 in /usr/local/lib/python3.9/dist-packages (from requests->python-binance) (2022.12.7)\n",
            "Requirement already satisfied: chardet<5,>=3.0.2 in /usr/local/lib/python3.9/dist-packages (from requests->python-binance) (4.0.0)\n",
            "Requirement already satisfied: idna<3,>=2.5 in /usr/local/lib/python3.9/dist-packages (from requests->python-binance) (2.10)\n",
            "Requirement already satisfied: pytz-deprecation-shim in /usr/local/lib/python3.9/dist-packages (from tzlocal->dateparser->python-binance) (0.1.0.post0)\n",
            "Requirement already satisfied: tzdata in /usr/local/lib/python3.9/dist-packages (from pytz-deprecation-shim->tzlocal->dateparser->python-binance) (2022.7)\n",
            "Installing collected packages: websockets, ujson, pycryptodome, multidict, frozenlist, charset-normalizer, async-timeout, yarl, aiosignal, dateparser, aiohttp, python-binance\n",
            "Successfully installed aiohttp-3.8.4 aiosignal-1.3.1 async-timeout-4.0.2 charset-normalizer-3.1.0 dateparser-1.1.7 frozenlist-1.3.3 multidict-6.0.4 pycryptodome-3.17 python-binance-1.0.17 ujson-5.7.0 websockets-10.4 yarl-1.8.2\n"
          ]
        }
      ]
    },
    {
      "cell_type": "markdown",
      "source": [
        "Ahora instalamos la libreria ta (tiene varios indicadores)"
      ],
      "metadata": {
        "id": "Qa1dmSJKZB4R"
      }
    },
    {
      "cell_type": "code",
      "source": [
        "!pip install ta"
      ],
      "metadata": {
        "colab": {
          "base_uri": "https://localhost:8080/"
        },
        "id": "6PuPevuPkO_Y",
        "outputId": "d18ac1c2-9722-4879-f435-54bba178d457"
      },
      "execution_count": 4,
      "outputs": [
        {
          "output_type": "stream",
          "name": "stdout",
          "text": [
            "Looking in indexes: https://pypi.org/simple, https://us-python.pkg.dev/colab-wheels/public/simple/\n",
            "Collecting ta\n",
            "  Downloading ta-0.10.2.tar.gz (25 kB)\n",
            "  Preparing metadata (setup.py) ... \u001b[?25l\u001b[?25hdone\n",
            "Requirement already satisfied: numpy in /usr/local/lib/python3.9/dist-packages (from ta) (1.22.4)\n",
            "Requirement already satisfied: pandas in /usr/local/lib/python3.9/dist-packages (from ta) (1.4.4)\n",
            "Requirement already satisfied: python-dateutil>=2.8.1 in /usr/local/lib/python3.9/dist-packages (from pandas->ta) (2.8.2)\n",
            "Requirement already satisfied: pytz>=2020.1 in /usr/local/lib/python3.9/dist-packages (from pandas->ta) (2022.7.1)\n",
            "Requirement already satisfied: six>=1.5 in /usr/local/lib/python3.9/dist-packages (from python-dateutil>=2.8.1->pandas->ta) (1.15.0)\n",
            "Building wheels for collected packages: ta\n",
            "  Building wheel for ta (setup.py) ... \u001b[?25l\u001b[?25hdone\n",
            "  Created wheel for ta: filename=ta-0.10.2-py3-none-any.whl size=29106 sha256=b6c97ec0cba560b0e092d9d6a3e73fcc3338f84277d5f2d8dfe9e053355d5fb3\n",
            "  Stored in directory: /root/.cache/pip/wheels/6a/76/03/7f785aaa50b9c6ec7e3fd105a62c1b2c45a034512d51e024a9\n",
            "Successfully built ta\n",
            "Installing collected packages: ta\n",
            "Successfully installed ta-0.10.2\n"
          ]
        }
      ]
    },
    {
      "cell_type": "markdown",
      "source": [
        "Importamos las librerias que vamos a usar"
      ],
      "metadata": {
        "id": "lhiM0lf_ZHyn"
      }
    },
    {
      "cell_type": "code",
      "execution_count": 5,
      "metadata": {
        "id": "tmkLoVpUuFSk"
      },
      "outputs": [],
      "source": [
        "from matplotlib import colors\n",
        "import time\n",
        "import numpy as np\n",
        "import pandas as pd\n",
        "import matplotlib.pyplot as plt\n",
        "import ta.volatility\n",
        "import ta.volume\n",
        "from matplotlib.colors import ListedColormap, LinearSegmentedColormap, Normalize\n",
        "import matplotlib.cm as cm\n",
        "from datetime import datetime, date, timezone, timedelta\n",
        "from binance.client import *"
      ]
    },
    {
      "cell_type": "markdown",
      "source": [
        "Vamos a abrir la conexión con Binance API.\n",
        "\n",
        "Si te da un error como el siguiente: \n",
        "\n",
        "\n",
        "> google colab BinanceAPIException: APIError(code=0): Service unavailable from a restricted location according to 'b. Eligibility'\n",
        "\n",
        "Significa que estás conectado desde un servidor de un país no autorizado por Binance API. Te recomiendo que vuelvas a reconectarte al servidor. Recuerda que la primera celda te permite saber si estás conectandote desde qué pais."
      ],
      "metadata": {
        "id": "DL-_g2gbZUQU"
      }
    },
    {
      "cell_type": "code",
      "source": [
        "client = Client()"
      ],
      "metadata": {
        "id": "7Glbg4d-Dbgg"
      },
      "execution_count": 7,
      "outputs": []
    },
    {
      "cell_type": "markdown",
      "source": [
        "Creamos una función para bajar las velas utilizando el método get_historical_klines()"
      ],
      "metadata": {
        "id": "EIV4qsGhZYG9"
      }
    },
    {
      "cell_type": "code",
      "source": [
        "def fetch_klines(keep_last):\n",
        "  klines = client.get_historical_klines(symbol, timeframe, limit=limit)\n",
        "  df = pd.DataFrame(klines)\n",
        "  df = df.iloc[:,0:6]\n",
        "  df.columns = ['Timestamp','Open','High','Low','Close','Volume']\n",
        "  df['Timestamp'] = pd.to_datetime(df['Timestamp'],unit='ms')\n",
        "  df.set_index('Timestamp',inplace=True)\n",
        "  df = df.astype(float)\n",
        "  if not keep_last:\n",
        "    df.drop(df.tail(1).index, inplace=True)  # drop last row\n",
        "  return df\n"
      ],
      "metadata": {
        "id": "1a2hiFBBxXzJ"
      },
      "execution_count": 8,
      "outputs": []
    },
    {
      "cell_type": "markdown",
      "source": [
        "Creamos una función para bajar el OpenInterest llamando a futures_open_interest_hist()"
      ],
      "metadata": {
        "id": "SY31NXPDZfVk"
      }
    },
    {
      "cell_type": "code",
      "source": [
        "def fetch_openinterest():\n",
        "  oi = client.futures_open_interest_hist(symbol=symbol,period=timeframe,limit=limit)\n",
        "  df = pd.DataFrame(oi)\n",
        "  if df.empty:\n",
        "    raise Exception('Open Interest is empty')\n",
        "  df['timestamp'] = pd.to_datetime(df['timestamp'],unit='ms')\n",
        "  df.set_index('timestamp',inplace=True)\n",
        "  df.drop(columns=['symbol'],inplace=True)\n",
        "  df = df.astype(float)\n",
        "  return df"
      ],
      "metadata": {
        "id": "oEyznEMAFsmL"
      },
      "execution_count": 9,
      "outputs": []
    },
    {
      "cell_type": "markdown",
      "source": [
        "Creamos una función para obtener la cantidad de decimales de precisión que nos retorna Binance para el par en cuestión. Ej: para BTCUSD es 2. Pero para otras altcoins a veces es 4 o más."
      ],
      "metadata": {
        "id": "KJh8HlAkZlee"
      }
    },
    {
      "cell_type": "code",
      "source": [
        "def get_decimal_rounding(df):\n",
        "    try:\n",
        "        decimals = len(str(df.head(1)['Close'].values[0]).split('.')[1])\n",
        "    except:\n",
        "        decimals = 0\n",
        "    return decimals"
      ],
      "metadata": {
        "id": "jSWksmYaW4md"
      },
      "execution_count": 10,
      "outputs": []
    },
    {
      "cell_type": "markdown",
      "source": [
        "Seteamos algunas variables básicas: el simbolo (BTCUSDT), el timeframe y el limite de velas que queremos obtener."
      ],
      "metadata": {
        "id": "WFH6ZO6ZZKZj"
      }
    },
    {
      "cell_type": "code",
      "source": [
        "symbol = 'XRPUSDT'\n",
        "timeframe = '1h'\n",
        "limit = 500"
      ],
      "metadata": {
        "id": "3e4i3_qx54JN"
      },
      "execution_count": 26,
      "outputs": []
    },
    {
      "cell_type": "markdown",
      "source": [
        "Obtenemos las velas (klines) del exchange segun las variables configuradas"
      ],
      "metadata": {
        "id": "tlzsB2YxZuIx"
      }
    },
    {
      "cell_type": "code",
      "source": [
        "df = fetch_klines(False)"
      ],
      "metadata": {
        "id": "lUxFAJsf-iHU"
      },
      "execution_count": 27,
      "outputs": []
    },
    {
      "cell_type": "markdown",
      "source": [
        "Obtenemos el Open Interest para el mismo par"
      ],
      "metadata": {
        "id": "P85zqiogZy4v"
      }
    },
    {
      "cell_type": "code",
      "source": [
        "df_oi = fetch_openinterest()"
      ],
      "metadata": {
        "id": "JgQC4915woOP"
      },
      "execution_count": 28,
      "outputs": []
    },
    {
      "cell_type": "markdown",
      "source": [
        "Unimos el dataframe con las klines y el Open Interest"
      ],
      "metadata": {
        "id": "1BCTZwahZ08Y"
      }
    },
    {
      "cell_type": "code",
      "source": [
        "df = df.join(df_oi)"
      ],
      "metadata": {
        "id": "tqVeqvp--lTZ"
      },
      "execution_count": 29,
      "outputs": []
    },
    {
      "cell_type": "markdown",
      "source": [
        "Borramos las celdas que tienen NA"
      ],
      "metadata": {
        "id": "xtWFTlL2Z4Tb"
      }
    },
    {
      "cell_type": "code",
      "source": [
        "df.dropna(inplace=True)"
      ],
      "metadata": {
        "id": "DuaRiaAu2xK0"
      },
      "execution_count": 30,
      "outputs": []
    },
    {
      "cell_type": "markdown",
      "source": [
        "Imprimimos el dataframe para ver su contenido"
      ],
      "metadata": {
        "id": "BJULZ6GRaehZ"
      }
    },
    {
      "cell_type": "code",
      "source": [
        "df"
      ],
      "metadata": {
        "colab": {
          "base_uri": "https://localhost:8080/",
          "height": 455
        },
        "id": "fpJD-FCUaduN",
        "outputId": "b2fb5739-b087-42ac-94a9-3e7f5e9930d6"
      },
      "execution_count": 31,
      "outputs": [
        {
          "output_type": "execute_result",
          "data": {
            "text/plain": [
              "                       Open    High     Low   Close      Volume  \\\n",
              "Timestamp                                                         \n",
              "2023-02-21 05:00:00  0.3958  0.3987  0.3956  0.3984  13280523.0   \n",
              "2023-02-21 06:00:00  0.3984  0.4007  0.3974  0.4007  14926400.0   \n",
              "2023-02-21 07:00:00  0.4006  0.4007  0.3976  0.3997  18632437.0   \n",
              "2023-02-21 08:00:00  0.3997  0.4025  0.3904  0.3933  44356099.0   \n",
              "2023-02-21 09:00:00  0.3933  0.3949  0.3906  0.3925  24199801.0   \n",
              "...                     ...     ...     ...     ...         ...   \n",
              "2023-03-13 19:00:00  0.3727  0.3735  0.3707  0.3717  13699585.0   \n",
              "2023-03-13 20:00:00  0.3717  0.3725  0.3696  0.3715  12552801.0   \n",
              "2023-03-13 21:00:00  0.3716  0.3730  0.3713  0.3720   8076603.0   \n",
              "2023-03-13 22:00:00  0.3720  0.3747  0.3719  0.3738  12780693.0   \n",
              "2023-03-13 23:00:00  0.3738  0.3738  0.3696  0.3724  15169437.0   \n",
              "\n",
              "                     sumOpenInterest  sumOpenInterestValue  \n",
              "Timestamp                                                   \n",
              "2023-02-21 05:00:00      331442184.4          1.311646e+08  \n",
              "2023-02-21 06:00:00      330315112.6          1.315315e+08  \n",
              "2023-02-21 07:00:00      333153269.3          1.334428e+08  \n",
              "2023-02-21 08:00:00      333486509.0          1.332555e+08  \n",
              "2023-02-21 09:00:00      324158627.0          1.274865e+08  \n",
              "...                              ...                   ...  \n",
              "2023-03-13 19:00:00      336449314.4          1.253610e+08  \n",
              "2023-03-13 20:00:00      333799990.5          1.239867e+08  \n",
              "2023-03-13 21:00:00      331336654.5          1.230253e+08  \n",
              "2023-03-13 22:00:00      334511717.7          1.243258e+08  \n",
              "2023-03-13 23:00:00      340160517.6          1.270840e+08  \n",
              "\n",
              "[499 rows x 7 columns]"
            ],
            "text/html": [
              "\n",
              "  <div id=\"df-010ec2ef-677f-4bb8-8243-cc0fdb9ade91\">\n",
              "    <div class=\"colab-df-container\">\n",
              "      <div>\n",
              "<style scoped>\n",
              "    .dataframe tbody tr th:only-of-type {\n",
              "        vertical-align: middle;\n",
              "    }\n",
              "\n",
              "    .dataframe tbody tr th {\n",
              "        vertical-align: top;\n",
              "    }\n",
              "\n",
              "    .dataframe thead th {\n",
              "        text-align: right;\n",
              "    }\n",
              "</style>\n",
              "<table border=\"1\" class=\"dataframe\">\n",
              "  <thead>\n",
              "    <tr style=\"text-align: right;\">\n",
              "      <th></th>\n",
              "      <th>Open</th>\n",
              "      <th>High</th>\n",
              "      <th>Low</th>\n",
              "      <th>Close</th>\n",
              "      <th>Volume</th>\n",
              "      <th>sumOpenInterest</th>\n",
              "      <th>sumOpenInterestValue</th>\n",
              "    </tr>\n",
              "    <tr>\n",
              "      <th>Timestamp</th>\n",
              "      <th></th>\n",
              "      <th></th>\n",
              "      <th></th>\n",
              "      <th></th>\n",
              "      <th></th>\n",
              "      <th></th>\n",
              "      <th></th>\n",
              "    </tr>\n",
              "  </thead>\n",
              "  <tbody>\n",
              "    <tr>\n",
              "      <th>2023-02-21 05:00:00</th>\n",
              "      <td>0.3958</td>\n",
              "      <td>0.3987</td>\n",
              "      <td>0.3956</td>\n",
              "      <td>0.3984</td>\n",
              "      <td>13280523.0</td>\n",
              "      <td>331442184.4</td>\n",
              "      <td>1.311646e+08</td>\n",
              "    </tr>\n",
              "    <tr>\n",
              "      <th>2023-02-21 06:00:00</th>\n",
              "      <td>0.3984</td>\n",
              "      <td>0.4007</td>\n",
              "      <td>0.3974</td>\n",
              "      <td>0.4007</td>\n",
              "      <td>14926400.0</td>\n",
              "      <td>330315112.6</td>\n",
              "      <td>1.315315e+08</td>\n",
              "    </tr>\n",
              "    <tr>\n",
              "      <th>2023-02-21 07:00:00</th>\n",
              "      <td>0.4006</td>\n",
              "      <td>0.4007</td>\n",
              "      <td>0.3976</td>\n",
              "      <td>0.3997</td>\n",
              "      <td>18632437.0</td>\n",
              "      <td>333153269.3</td>\n",
              "      <td>1.334428e+08</td>\n",
              "    </tr>\n",
              "    <tr>\n",
              "      <th>2023-02-21 08:00:00</th>\n",
              "      <td>0.3997</td>\n",
              "      <td>0.4025</td>\n",
              "      <td>0.3904</td>\n",
              "      <td>0.3933</td>\n",
              "      <td>44356099.0</td>\n",
              "      <td>333486509.0</td>\n",
              "      <td>1.332555e+08</td>\n",
              "    </tr>\n",
              "    <tr>\n",
              "      <th>2023-02-21 09:00:00</th>\n",
              "      <td>0.3933</td>\n",
              "      <td>0.3949</td>\n",
              "      <td>0.3906</td>\n",
              "      <td>0.3925</td>\n",
              "      <td>24199801.0</td>\n",
              "      <td>324158627.0</td>\n",
              "      <td>1.274865e+08</td>\n",
              "    </tr>\n",
              "    <tr>\n",
              "      <th>...</th>\n",
              "      <td>...</td>\n",
              "      <td>...</td>\n",
              "      <td>...</td>\n",
              "      <td>...</td>\n",
              "      <td>...</td>\n",
              "      <td>...</td>\n",
              "      <td>...</td>\n",
              "    </tr>\n",
              "    <tr>\n",
              "      <th>2023-03-13 19:00:00</th>\n",
              "      <td>0.3727</td>\n",
              "      <td>0.3735</td>\n",
              "      <td>0.3707</td>\n",
              "      <td>0.3717</td>\n",
              "      <td>13699585.0</td>\n",
              "      <td>336449314.4</td>\n",
              "      <td>1.253610e+08</td>\n",
              "    </tr>\n",
              "    <tr>\n",
              "      <th>2023-03-13 20:00:00</th>\n",
              "      <td>0.3717</td>\n",
              "      <td>0.3725</td>\n",
              "      <td>0.3696</td>\n",
              "      <td>0.3715</td>\n",
              "      <td>12552801.0</td>\n",
              "      <td>333799990.5</td>\n",
              "      <td>1.239867e+08</td>\n",
              "    </tr>\n",
              "    <tr>\n",
              "      <th>2023-03-13 21:00:00</th>\n",
              "      <td>0.3716</td>\n",
              "      <td>0.3730</td>\n",
              "      <td>0.3713</td>\n",
              "      <td>0.3720</td>\n",
              "      <td>8076603.0</td>\n",
              "      <td>331336654.5</td>\n",
              "      <td>1.230253e+08</td>\n",
              "    </tr>\n",
              "    <tr>\n",
              "      <th>2023-03-13 22:00:00</th>\n",
              "      <td>0.3720</td>\n",
              "      <td>0.3747</td>\n",
              "      <td>0.3719</td>\n",
              "      <td>0.3738</td>\n",
              "      <td>12780693.0</td>\n",
              "      <td>334511717.7</td>\n",
              "      <td>1.243258e+08</td>\n",
              "    </tr>\n",
              "    <tr>\n",
              "      <th>2023-03-13 23:00:00</th>\n",
              "      <td>0.3738</td>\n",
              "      <td>0.3738</td>\n",
              "      <td>0.3696</td>\n",
              "      <td>0.3724</td>\n",
              "      <td>15169437.0</td>\n",
              "      <td>340160517.6</td>\n",
              "      <td>1.270840e+08</td>\n",
              "    </tr>\n",
              "  </tbody>\n",
              "</table>\n",
              "<p>499 rows × 7 columns</p>\n",
              "</div>\n",
              "      <button class=\"colab-df-convert\" onclick=\"convertToInteractive('df-010ec2ef-677f-4bb8-8243-cc0fdb9ade91')\"\n",
              "              title=\"Convert this dataframe to an interactive table.\"\n",
              "              style=\"display:none;\">\n",
              "        \n",
              "  <svg xmlns=\"http://www.w3.org/2000/svg\" height=\"24px\"viewBox=\"0 0 24 24\"\n",
              "       width=\"24px\">\n",
              "    <path d=\"M0 0h24v24H0V0z\" fill=\"none\"/>\n",
              "    <path d=\"M18.56 5.44l.94 2.06.94-2.06 2.06-.94-2.06-.94-.94-2.06-.94 2.06-2.06.94zm-11 1L8.5 8.5l.94-2.06 2.06-.94-2.06-.94L8.5 2.5l-.94 2.06-2.06.94zm10 10l.94 2.06.94-2.06 2.06-.94-2.06-.94-.94-2.06-.94 2.06-2.06.94z\"/><path d=\"M17.41 7.96l-1.37-1.37c-.4-.4-.92-.59-1.43-.59-.52 0-1.04.2-1.43.59L10.3 9.45l-7.72 7.72c-.78.78-.78 2.05 0 2.83L4 21.41c.39.39.9.59 1.41.59.51 0 1.02-.2 1.41-.59l7.78-7.78 2.81-2.81c.8-.78.8-2.07 0-2.86zM5.41 20L4 18.59l7.72-7.72 1.47 1.35L5.41 20z\"/>\n",
              "  </svg>\n",
              "      </button>\n",
              "      \n",
              "  <style>\n",
              "    .colab-df-container {\n",
              "      display:flex;\n",
              "      flex-wrap:wrap;\n",
              "      gap: 12px;\n",
              "    }\n",
              "\n",
              "    .colab-df-convert {\n",
              "      background-color: #E8F0FE;\n",
              "      border: none;\n",
              "      border-radius: 50%;\n",
              "      cursor: pointer;\n",
              "      display: none;\n",
              "      fill: #1967D2;\n",
              "      height: 32px;\n",
              "      padding: 0 0 0 0;\n",
              "      width: 32px;\n",
              "    }\n",
              "\n",
              "    .colab-df-convert:hover {\n",
              "      background-color: #E2EBFA;\n",
              "      box-shadow: 0px 1px 2px rgba(60, 64, 67, 0.3), 0px 1px 3px 1px rgba(60, 64, 67, 0.15);\n",
              "      fill: #174EA6;\n",
              "    }\n",
              "\n",
              "    [theme=dark] .colab-df-convert {\n",
              "      background-color: #3B4455;\n",
              "      fill: #D2E3FC;\n",
              "    }\n",
              "\n",
              "    [theme=dark] .colab-df-convert:hover {\n",
              "      background-color: #434B5C;\n",
              "      box-shadow: 0px 1px 3px 1px rgba(0, 0, 0, 0.15);\n",
              "      filter: drop-shadow(0px 1px 2px rgba(0, 0, 0, 0.3));\n",
              "      fill: #FFFFFF;\n",
              "    }\n",
              "  </style>\n",
              "\n",
              "      <script>\n",
              "        const buttonEl =\n",
              "          document.querySelector('#df-010ec2ef-677f-4bb8-8243-cc0fdb9ade91 button.colab-df-convert');\n",
              "        buttonEl.style.display =\n",
              "          google.colab.kernel.accessAllowed ? 'block' : 'none';\n",
              "\n",
              "        async function convertToInteractive(key) {\n",
              "          const element = document.querySelector('#df-010ec2ef-677f-4bb8-8243-cc0fdb9ade91');\n",
              "          const dataTable =\n",
              "            await google.colab.kernel.invokeFunction('convertToInteractive',\n",
              "                                                     [key], {});\n",
              "          if (!dataTable) return;\n",
              "\n",
              "          const docLinkHtml = 'Like what you see? Visit the ' +\n",
              "            '<a target=\"_blank\" href=https://colab.research.google.com/notebooks/data_table.ipynb>data table notebook</a>'\n",
              "            + ' to learn more about interactive tables.';\n",
              "          element.innerHTML = '';\n",
              "          dataTable['output_type'] = 'display_data';\n",
              "          await google.colab.output.renderOutput(dataTable, element);\n",
              "          const docLink = document.createElement('div');\n",
              "          docLink.innerHTML = docLinkHtml;\n",
              "          element.appendChild(docLink);\n",
              "        }\n",
              "      </script>\n",
              "    </div>\n",
              "  </div>\n",
              "  "
            ]
          },
          "metadata": {},
          "execution_count": 31
        }
      ]
    },
    {
      "cell_type": "markdown",
      "source": [
        "Obtenemos los decimales de precisión para el simbolo seleccionado"
      ],
      "metadata": {
        "id": "xVNTt4IBZ73C"
      }
    },
    {
      "cell_type": "code",
      "source": [
        "decimal_rounding = get_decimal_rounding(df)"
      ],
      "metadata": {
        "id": "XjTOF8zFW06V"
      },
      "execution_count": 32,
      "outputs": []
    },
    {
      "cell_type": "code",
      "source": [
        "print(\"Para imprimir los precios vamos a necesitar {} decimales para el par {}\".format(decimal_rounding, symbol))"
      ],
      "metadata": {
        "colab": {
          "base_uri": "https://localhost:8080/"
        },
        "id": "AmnwtqSTbqhY",
        "outputId": "b5ae308b-a68b-4d36-edf8-5d6f06741832"
      },
      "execution_count": 33,
      "outputs": [
        {
          "output_type": "stream",
          "name": "stdout",
          "text": [
            "Para imprimir los precios vamos a necesitar 4 decimales para el par XRPUSDT\n"
          ]
        }
      ]
    },
    {
      "cell_type": "markdown",
      "source": [
        "Hacemos algunos calculos básicos con indicadores, y los agregamos como columnas nuevas en el dataframe. "
      ],
      "metadata": {
        "id": "uUvZihLKZ-7f"
      }
    },
    {
      "cell_type": "code",
      "source": [
        "volume_sma_ratio = 1.6\n",
        "# Para calcular la media del volumen considerando N períodos hacia atras\n",
        "volume_sma_period = 20\n",
        "# Para calcular el promedio del Open Interest considerando n períodos hacia atras.\n",
        "openinterest_sma_period = 20\n",
        "# Factor de multiplicación de la stdev de la media movil para considerar OI anormal\n",
        "openinterest_std_period = 1.5\n",
        "# Condicion 1 para alerta de open interest\n",
        "open_interest_million_threshold = 3000000\n",
        "# Condicion 2 para alerta de open interest (1% = 0.01)\n",
        "open_interest_percentage_threshold = 0.1\n",
        "atr_period = 14\n",
        "atr_breakout_multiplier = 1.6\n",
        "dc_period = 14\n",
        "bb_period = 20\n",
        "bb_stdev = 2\n",
        "kc_period = 20\n",
        "kc_atr_period = 10\n",
        "\n",
        "\n",
        "# Agregamos una media de volumen\n",
        "df['VolumeMean'] = df.Volume.rolling(volume_sma_period).mean()\n",
        "# Calculamos cual seria un volumen anormal multiplicando la media por un ratio\n",
        "df['AbnormalVolume'] = np.multiply(df['VolumeMean'], volume_sma_ratio)\n",
        "# Verificamos si tenemos volumen anormal\n",
        "df['HasAbnormalVolume'] = np.greater(df['Volume'], df['AbnormalVolume'])\n",
        "\n",
        "# Bollinger bands\n",
        "df['bb_hband'] = ta.volatility.bollinger_hband(df['Close'], bb_period, bb_stdev)\n",
        "df['bb_lband'] = ta.volatility.bollinger_lband(df['Close'], bb_period, bb_stdev)\n",
        "\n",
        "# Keltner Channels\n",
        "df['kc_hband'] = ta.volatility.keltner_channel_hband(df['High'],\n",
        "                                                      df['Low'],\n",
        "                                                      df['Close'],\n",
        "                                                      kc_period,\n",
        "                                                      kc_atr_period)\n",
        "df['kc_lband'] = ta.volatility.keltner_channel_lband(df['High'],\n",
        "                                                      df['Low'],\n",
        "                                                      df['Close'],\n",
        "                                                      kc_period,\n",
        "                                                      kc_atr_period)\n",
        "# Calculamos los momentos donde ambos extremos de las Bollinger Bands están dentro del Keltner Channel\n",
        "df['bb_inside_kc'] = np.where(((df['bb_hband'] < df['kc_hband']) & (df['bb_lband'] > df['kc_lband'])), True, False)\n",
        "\n",
        "# Calculamos el True range (1 vela)\n",
        "df['TrueRange'] = ta.volatility.AverageTrueRange(high=df['High'], \n",
        "                                                 low=df['Low'], \n",
        "                                                 close=df['Close'],\n",
        "                                                 window=1).average_true_range()\n",
        "# Calculamos el True range en un periodo definido por atr_period\n",
        "df['ATR'] = ta.volatility.AverageTrueRange(high=df['High'], \n",
        "                                           low=df['Low'], \n",
        "                                           close=df['Close'],\n",
        "                                           window=atr_period).average_true_range()\n",
        "# En los casos que no tenemos el ATR, lo completamos con el True Range\n",
        "df['ATRStandard'] = df['ATR'].fillna(df['TrueRange'])  # Estandarizamos el ATR al TR\n",
        "\n",
        "# Calculamos promedio del OI\n",
        "df['openInterestMean'] = df.sumOpenInterest.rolling(openinterest_sma_period).mean()\n",
        "# Rellenamos con zeros las columnas donde no tenemos data\n",
        "df['openInterestMean'] = df['openInterestMean'].fillna(0)\n",
        "# Calculamos el pct_change entre cada vela respecto a su anterior. \n",
        "df['openInterestChange'] = df['sumOpenInterest'].pct_change(periods=1, limit=2)\n",
        "# Calculamos la diferencia en millones de USD en el OI entre una vela y su anterior.\n",
        "df['openInterestValueDiff'] = df['sumOpenInterestValue'].diff()\n",
        "# Calculamos si el open interest está por encima de la media y definimos Rising (creciendo) en True cuando sucede de lo contrario False.\n",
        "df['openInterestRising'] = np.greater_equal(df['sumOpenInterest'], df['openInterestMean'])\n",
        "# Calculamos la diferencia en el OI (coin margined) de una vela y su anterior.\n",
        "df['openInterestDiff'] = df['sumOpenInterest'].diff(periods=1)\n",
        "# Calculamos señales de OI: el pct_change > open_interest_percentage_threshold OR la diferencia en el OI es > open_interest_million_threshold millones\n",
        "df['openInterestSignal'] = (df['openInterestChange'].ge(open_interest_percentage_threshold) | \n",
        "                            (df['openInterestValueDiff'].gt(open_interest_million_threshold)))\n",
        "# Calculamos desviacion estandard del OI\n",
        "df['openInterestStd'] = df['sumOpenInterest'].rolling(openinterest_sma_period).std()  # standard deviation\n",
        "# Calculamos cuando el OI es superior a openinterest_std_period la desviación estandard (anormal)\n",
        "df['openInterestAbnormal'] = np.greater(df['sumOpenInterest'], df['openInterestMean']+np.multiply(openinterest_std_period,df['openInterestStd'])) | \\\n",
        "                                    np.less_equal(df['sumOpenInterest'], (df['openInterestMean'] -\n",
        "                                        np.multiply(openinterest_std_period, df['openInterestStd'])))\n",
        "\n",
        "# -------------------------------------------------\n",
        "# PRICE CONSOLIDATION & BREAKOUT\n",
        "# -------------------------------------------------\n",
        "\n",
        "# Calculamos la CONSOLIDACIÓN DEL PRECIO, para eso necesitamos un donchian channel\n",
        "dc_upper = ta.volatility.donchian_channel_hband(high=df['High'],\n",
        "                                                low=df['Low'],\n",
        "                                                close=df['Close'],\n",
        "                                                window=dc_period)\n",
        "dc_middle = ta.volatility.donchian_channel_mband(high=df['High'],\n",
        "                                                  low=df['Low'],\n",
        "                                                  close=df['Close'],\n",
        "                                                  window=dc_period)\n",
        "dc_lower = ta.volatility.donchian_channel_lband(high=df['High'],\n",
        "                                                low=df['Low'],\n",
        "                                                close=df['Close'],\n",
        "                                                window=dc_period)\n",
        "if dc_upper is not None and dc_lower is not None and dc_middle is not None:\n",
        "  # dc = [dc_lower,dc_middle,dc_upper]\n",
        "  df['DC_UPPER'] = dc_upper\n",
        "  df['DC_MIDDLE'] = dc_middle\n",
        "  df['DC_LOWER'] = dc_lower\n",
        "  df['DC_DIFF'] = np.subtract(df['DC_UPPER'], df['DC_LOWER'])\n",
        "else:\n",
        "  # Inicializamos las columnas vacias en el caso que no tengamos la cantidad de perídos para tener un DC\n",
        "  df[[\"DC_LOWER\", \"DC_MIDDLE\", \"DC_UPPER\", \"DC_DIFF\"]] = np.nan\n",
        "\n",
        "# Definimos un Breakout a cuando el precio rompe el Donchian Channel con volumen anormal\n",
        "# y además el True range es > a un múltiplo del atr_breakout_multiplier\n",
        "df['Breakout'] = (((df['Close'] > df['DC_UPPER'].shift(1)) | (df['Close'] < df['DC_LOWER'].shift(1))) &\n",
        "                  (df['HasAbnormalVolume']) &\n",
        "                  np.greater_equal(df['TrueRange'], np.multiply(df['ATRStandard'], atr_breakout_multiplier)))\n",
        "# Definimos la dirección del breakout\n",
        "df['BreakoutUpside'] = ((df['Close'] > df['DC_UPPER'].shift(1)) & (df['Breakout']))\n",
        "# Definimos el marker para luego plotear\n",
        "df['Marker'] = np.where((df['BreakoutUpside']), '^', 'v')\n",
        "\n",
        "# Señales de consolidación de precios donde las BB se encontraban dentro del Keltner channel,\n",
        "# dentro de los Donchian Channel, con bajo volumen (no anormal) y open interest creciente.\n",
        "# TODO: optimizar ésto\n",
        "df['PriceConsolidation'] = np.where((df['bb_inside_kc']) &\n",
        "                                    (np.less_equal(df['Close'], df['DC_UPPER']) &\n",
        "                                      np.greater_equal(df['Close'], df['DC_LOWER'])) &\n",
        "                                    (~df['HasAbnormalVolume']) &\n",
        "                                    (df['openInterestRising']), True, False)                            \n",
        "\n"
      ],
      "metadata": {
        "id": "SyiscJRna6f9"
      },
      "execution_count": 34,
      "outputs": []
    },
    {
      "cell_type": "markdown",
      "source": [
        "Generamos un recorte del dataframe con las velas donde tenemos Open Interest Anormal, o bien una señal en el OI"
      ],
      "metadata": {
        "id": "HhLcUv3LaKEn"
      }
    },
    {
      "cell_type": "code",
      "source": [
        "filtered = df[(df['openInterestAbnormal']) | (df['openInterestSignal'])]"
      ],
      "metadata": {
        "id": "k4iCiztTkE7V"
      },
      "execution_count": 35,
      "outputs": []
    },
    {
      "cell_type": "markdown",
      "source": [
        "Generamos un recorte del dataframe con las velas donde tenemos Breakout y señal en el Open Interest."
      ],
      "metadata": {
        "id": "eySeGalbaRMQ"
      }
    },
    {
      "cell_type": "code",
      "source": [
        "signals = df[(df['Breakout']) & (\n",
        "                        (df['openInterestSignal']) |\n",
        "                        (df['openInterestSignal'].shift(1)) |\n",
        "                        (df['openInterestAbnormal']) |\n",
        "                        (df['openInterestAbnormal']).shift(1))]"
      ],
      "metadata": {
        "id": "j0kjRlNXWKPb"
      },
      "execution_count": 36,
      "outputs": []
    },
    {
      "cell_type": "markdown",
      "source": [
        "Imprimimos las señales de la confluencia de aquellas filas que tenemos Breakout + OI Signal o OI anormal"
      ],
      "metadata": {
        "id": "REU804_iaYSc"
      }
    },
    {
      "cell_type": "code",
      "source": [
        "signals"
      ],
      "metadata": {
        "id": "C9K9PkgGWcRd",
        "colab": {
          "base_uri": "https://localhost:8080/",
          "height": 710
        },
        "outputId": "ebd753eb-e903-4ce4-a560-c62027a677ec"
      },
      "execution_count": 37,
      "outputs": [
        {
          "output_type": "execute_result",
          "data": {
            "text/plain": [
              "                       Open    High     Low   Close      Volume  \\\n",
              "Timestamp                                                         \n",
              "2023-02-23 11:00:00  0.3958  0.3960  0.3880  0.3896  30632721.0   \n",
              "2023-02-24 15:00:00  0.3851  0.3853  0.3786  0.3816  46093255.0   \n",
              "2023-02-24 16:00:00  0.3815  0.3816  0.3734  0.3754  48727070.0   \n",
              "2023-03-06 01:00:00  0.3691  0.3692  0.3623  0.3626  26063507.0   \n",
              "2023-03-07 14:00:00  0.3730  0.3784  0.3719  0.3762  34826989.0   \n",
              "2023-03-07 15:00:00  0.3762  0.3827  0.3713  0.3787  80775362.0   \n",
              "2023-03-08 13:00:00  0.3915  0.4018  0.3914  0.3953  93374260.0   \n",
              "2023-03-09 19:00:00  0.3872  0.3873  0.3763  0.3788  55967457.0   \n",
              "2023-03-09 20:00:00  0.3788  0.3788  0.3639  0.3649  70347257.0   \n",
              "2023-03-11 07:00:00  0.3681  0.3687  0.3607  0.3626  37487084.0   \n",
              "2023-03-13 00:00:00  0.3713  0.3760  0.3679  0.3728  36924183.0   \n",
              "\n",
              "                     sumOpenInterest  sumOpenInterestValue   VolumeMean  \\\n",
              "Timestamp                                                                 \n",
              "2023-02-23 11:00:00      319277752.1          1.263653e+08  14522907.65   \n",
              "2023-02-24 15:00:00      327120686.8          1.260098e+08  12590670.90   \n",
              "2023-02-24 16:00:00      328002108.1          1.250789e+08  14676068.65   \n",
              "2023-03-06 01:00:00      326287466.7          1.203022e+08   8142809.25   \n",
              "2023-03-07 14:00:00      336429698.0          1.254723e+08  19381792.95   \n",
              "2023-03-07 15:00:00      345549609.7          1.299490e+08  22323427.95   \n",
              "2023-03-08 13:00:00      451685002.7          1.767985e+08  26954137.25   \n",
              "2023-03-09 19:00:00      416259431.8          1.611335e+08  24902898.80   \n",
              "2023-03-09 20:00:00      390329319.7          1.477538e+08  26968224.70   \n",
              "2023-03-11 07:00:00      331516901.2          1.218988e+08  18642363.35   \n",
              "2023-03-13 00:00:00      326582371.8          1.211954e+08  19529528.50   \n",
              "\n",
              "                     AbnormalVolume  HasAbnormalVolume  ...  openInterestStd  \\\n",
              "Timestamp                                               ...                    \n",
              "2023-02-23 11:00:00     23236652.24               True  ...     5.233436e+06   \n",
              "2023-02-24 15:00:00     20145073.44               True  ...     3.252580e+06   \n",
              "2023-02-24 16:00:00     23481709.84               True  ...     3.588209e+06   \n",
              "2023-03-06 01:00:00     13028494.80               True  ...     3.758900e+06   \n",
              "2023-03-07 14:00:00     31010868.72               True  ...     6.082066e+06   \n",
              "2023-03-07 15:00:00     35717484.72               True  ...     7.803124e+06   \n",
              "2023-03-08 13:00:00     43126619.60               True  ...     2.168298e+07   \n",
              "2023-03-09 19:00:00     39844638.08               True  ...     9.486716e+06   \n",
              "2023-03-09 20:00:00     43149159.52               True  ...     1.485651e+07   \n",
              "2023-03-11 07:00:00     29827781.36               True  ...     5.129612e+06   \n",
              "2023-03-13 00:00:00     31247245.60               True  ...     9.366824e+06   \n",
              "\n",
              "                     openInterestAbnormal  DC_UPPER  DC_MIDDLE  DC_LOWER  \\\n",
              "Timestamp                                                                  \n",
              "2023-02-23 11:00:00                  True    0.3979    0.39295    0.3880   \n",
              "2023-02-24 15:00:00                  True    0.3908    0.38470    0.3786   \n",
              "2023-02-24 16:00:00                  True    0.3908    0.38210    0.3734   \n",
              "2023-03-06 01:00:00                  True    0.3726    0.36745    0.3623   \n",
              "2023-03-07 14:00:00                  True    0.3784    0.37265    0.3669   \n",
              "2023-03-07 15:00:00                  True    0.3827    0.37480    0.3669   \n",
              "2023-03-08 13:00:00                  True    0.4018    0.38705    0.3723   \n",
              "2023-03-09 19:00:00                  True    0.3976    0.38695    0.3763   \n",
              "2023-03-09 20:00:00                  True    0.3976    0.38075    0.3639   \n",
              "2023-03-11 07:00:00                  True    0.3741    0.36740    0.3607   \n",
              "2023-03-13 00:00:00                 False    0.3760    0.36165    0.3473   \n",
              "\n",
              "                     DC_DIFF  Breakout  BreakoutUpside  Marker  \\\n",
              "Timestamp                                                        \n",
              "2023-02-23 11:00:00   0.0099      True           False       v   \n",
              "2023-02-24 15:00:00   0.0122      True           False       v   \n",
              "2023-02-24 16:00:00   0.0174      True           False       v   \n",
              "2023-03-06 01:00:00   0.0103      True           False       v   \n",
              "2023-03-07 14:00:00   0.0115      True            True       ^   \n",
              "2023-03-07 15:00:00   0.0158      True            True       ^   \n",
              "2023-03-08 13:00:00   0.0295      True            True       ^   \n",
              "2023-03-09 19:00:00   0.0213      True           False       v   \n",
              "2023-03-09 20:00:00   0.0337      True           False       v   \n",
              "2023-03-11 07:00:00   0.0134      True           False       v   \n",
              "2023-03-13 00:00:00   0.0287      True            True       ^   \n",
              "\n",
              "                     PriceConsolidation  \n",
              "Timestamp                                \n",
              "2023-02-23 11:00:00               False  \n",
              "2023-02-24 15:00:00               False  \n",
              "2023-02-24 16:00:00               False  \n",
              "2023-03-06 01:00:00               False  \n",
              "2023-03-07 14:00:00               False  \n",
              "2023-03-07 15:00:00               False  \n",
              "2023-03-08 13:00:00               False  \n",
              "2023-03-09 19:00:00               False  \n",
              "2023-03-09 20:00:00               False  \n",
              "2023-03-11 07:00:00               False  \n",
              "2023-03-13 00:00:00               False  \n",
              "\n",
              "[11 rows x 34 columns]"
            ],
            "text/html": [
              "\n",
              "  <div id=\"df-b6f6f33a-4aa5-405d-a5d7-5db6be8ca2d7\">\n",
              "    <div class=\"colab-df-container\">\n",
              "      <div>\n",
              "<style scoped>\n",
              "    .dataframe tbody tr th:only-of-type {\n",
              "        vertical-align: middle;\n",
              "    }\n",
              "\n",
              "    .dataframe tbody tr th {\n",
              "        vertical-align: top;\n",
              "    }\n",
              "\n",
              "    .dataframe thead th {\n",
              "        text-align: right;\n",
              "    }\n",
              "</style>\n",
              "<table border=\"1\" class=\"dataframe\">\n",
              "  <thead>\n",
              "    <tr style=\"text-align: right;\">\n",
              "      <th></th>\n",
              "      <th>Open</th>\n",
              "      <th>High</th>\n",
              "      <th>Low</th>\n",
              "      <th>Close</th>\n",
              "      <th>Volume</th>\n",
              "      <th>sumOpenInterest</th>\n",
              "      <th>sumOpenInterestValue</th>\n",
              "      <th>VolumeMean</th>\n",
              "      <th>AbnormalVolume</th>\n",
              "      <th>HasAbnormalVolume</th>\n",
              "      <th>...</th>\n",
              "      <th>openInterestStd</th>\n",
              "      <th>openInterestAbnormal</th>\n",
              "      <th>DC_UPPER</th>\n",
              "      <th>DC_MIDDLE</th>\n",
              "      <th>DC_LOWER</th>\n",
              "      <th>DC_DIFF</th>\n",
              "      <th>Breakout</th>\n",
              "      <th>BreakoutUpside</th>\n",
              "      <th>Marker</th>\n",
              "      <th>PriceConsolidation</th>\n",
              "    </tr>\n",
              "    <tr>\n",
              "      <th>Timestamp</th>\n",
              "      <th></th>\n",
              "      <th></th>\n",
              "      <th></th>\n",
              "      <th></th>\n",
              "      <th></th>\n",
              "      <th></th>\n",
              "      <th></th>\n",
              "      <th></th>\n",
              "      <th></th>\n",
              "      <th></th>\n",
              "      <th></th>\n",
              "      <th></th>\n",
              "      <th></th>\n",
              "      <th></th>\n",
              "      <th></th>\n",
              "      <th></th>\n",
              "      <th></th>\n",
              "      <th></th>\n",
              "      <th></th>\n",
              "      <th></th>\n",
              "      <th></th>\n",
              "    </tr>\n",
              "  </thead>\n",
              "  <tbody>\n",
              "    <tr>\n",
              "      <th>2023-02-23 11:00:00</th>\n",
              "      <td>0.3958</td>\n",
              "      <td>0.3960</td>\n",
              "      <td>0.3880</td>\n",
              "      <td>0.3896</td>\n",
              "      <td>30632721.0</td>\n",
              "      <td>319277752.1</td>\n",
              "      <td>1.263653e+08</td>\n",
              "      <td>14522907.65</td>\n",
              "      <td>23236652.24</td>\n",
              "      <td>True</td>\n",
              "      <td>...</td>\n",
              "      <td>5.233436e+06</td>\n",
              "      <td>True</td>\n",
              "      <td>0.3979</td>\n",
              "      <td>0.39295</td>\n",
              "      <td>0.3880</td>\n",
              "      <td>0.0099</td>\n",
              "      <td>True</td>\n",
              "      <td>False</td>\n",
              "      <td>v</td>\n",
              "      <td>False</td>\n",
              "    </tr>\n",
              "    <tr>\n",
              "      <th>2023-02-24 15:00:00</th>\n",
              "      <td>0.3851</td>\n",
              "      <td>0.3853</td>\n",
              "      <td>0.3786</td>\n",
              "      <td>0.3816</td>\n",
              "      <td>46093255.0</td>\n",
              "      <td>327120686.8</td>\n",
              "      <td>1.260098e+08</td>\n",
              "      <td>12590670.90</td>\n",
              "      <td>20145073.44</td>\n",
              "      <td>True</td>\n",
              "      <td>...</td>\n",
              "      <td>3.252580e+06</td>\n",
              "      <td>True</td>\n",
              "      <td>0.3908</td>\n",
              "      <td>0.38470</td>\n",
              "      <td>0.3786</td>\n",
              "      <td>0.0122</td>\n",
              "      <td>True</td>\n",
              "      <td>False</td>\n",
              "      <td>v</td>\n",
              "      <td>False</td>\n",
              "    </tr>\n",
              "    <tr>\n",
              "      <th>2023-02-24 16:00:00</th>\n",
              "      <td>0.3815</td>\n",
              "      <td>0.3816</td>\n",
              "      <td>0.3734</td>\n",
              "      <td>0.3754</td>\n",
              "      <td>48727070.0</td>\n",
              "      <td>328002108.1</td>\n",
              "      <td>1.250789e+08</td>\n",
              "      <td>14676068.65</td>\n",
              "      <td>23481709.84</td>\n",
              "      <td>True</td>\n",
              "      <td>...</td>\n",
              "      <td>3.588209e+06</td>\n",
              "      <td>True</td>\n",
              "      <td>0.3908</td>\n",
              "      <td>0.38210</td>\n",
              "      <td>0.3734</td>\n",
              "      <td>0.0174</td>\n",
              "      <td>True</td>\n",
              "      <td>False</td>\n",
              "      <td>v</td>\n",
              "      <td>False</td>\n",
              "    </tr>\n",
              "    <tr>\n",
              "      <th>2023-03-06 01:00:00</th>\n",
              "      <td>0.3691</td>\n",
              "      <td>0.3692</td>\n",
              "      <td>0.3623</td>\n",
              "      <td>0.3626</td>\n",
              "      <td>26063507.0</td>\n",
              "      <td>326287466.7</td>\n",
              "      <td>1.203022e+08</td>\n",
              "      <td>8142809.25</td>\n",
              "      <td>13028494.80</td>\n",
              "      <td>True</td>\n",
              "      <td>...</td>\n",
              "      <td>3.758900e+06</td>\n",
              "      <td>True</td>\n",
              "      <td>0.3726</td>\n",
              "      <td>0.36745</td>\n",
              "      <td>0.3623</td>\n",
              "      <td>0.0103</td>\n",
              "      <td>True</td>\n",
              "      <td>False</td>\n",
              "      <td>v</td>\n",
              "      <td>False</td>\n",
              "    </tr>\n",
              "    <tr>\n",
              "      <th>2023-03-07 14:00:00</th>\n",
              "      <td>0.3730</td>\n",
              "      <td>0.3784</td>\n",
              "      <td>0.3719</td>\n",
              "      <td>0.3762</td>\n",
              "      <td>34826989.0</td>\n",
              "      <td>336429698.0</td>\n",
              "      <td>1.254723e+08</td>\n",
              "      <td>19381792.95</td>\n",
              "      <td>31010868.72</td>\n",
              "      <td>True</td>\n",
              "      <td>...</td>\n",
              "      <td>6.082066e+06</td>\n",
              "      <td>True</td>\n",
              "      <td>0.3784</td>\n",
              "      <td>0.37265</td>\n",
              "      <td>0.3669</td>\n",
              "      <td>0.0115</td>\n",
              "      <td>True</td>\n",
              "      <td>True</td>\n",
              "      <td>^</td>\n",
              "      <td>False</td>\n",
              "    </tr>\n",
              "    <tr>\n",
              "      <th>2023-03-07 15:00:00</th>\n",
              "      <td>0.3762</td>\n",
              "      <td>0.3827</td>\n",
              "      <td>0.3713</td>\n",
              "      <td>0.3787</td>\n",
              "      <td>80775362.0</td>\n",
              "      <td>345549609.7</td>\n",
              "      <td>1.299490e+08</td>\n",
              "      <td>22323427.95</td>\n",
              "      <td>35717484.72</td>\n",
              "      <td>True</td>\n",
              "      <td>...</td>\n",
              "      <td>7.803124e+06</td>\n",
              "      <td>True</td>\n",
              "      <td>0.3827</td>\n",
              "      <td>0.37480</td>\n",
              "      <td>0.3669</td>\n",
              "      <td>0.0158</td>\n",
              "      <td>True</td>\n",
              "      <td>True</td>\n",
              "      <td>^</td>\n",
              "      <td>False</td>\n",
              "    </tr>\n",
              "    <tr>\n",
              "      <th>2023-03-08 13:00:00</th>\n",
              "      <td>0.3915</td>\n",
              "      <td>0.4018</td>\n",
              "      <td>0.3914</td>\n",
              "      <td>0.3953</td>\n",
              "      <td>93374260.0</td>\n",
              "      <td>451685002.7</td>\n",
              "      <td>1.767985e+08</td>\n",
              "      <td>26954137.25</td>\n",
              "      <td>43126619.60</td>\n",
              "      <td>True</td>\n",
              "      <td>...</td>\n",
              "      <td>2.168298e+07</td>\n",
              "      <td>True</td>\n",
              "      <td>0.4018</td>\n",
              "      <td>0.38705</td>\n",
              "      <td>0.3723</td>\n",
              "      <td>0.0295</td>\n",
              "      <td>True</td>\n",
              "      <td>True</td>\n",
              "      <td>^</td>\n",
              "      <td>False</td>\n",
              "    </tr>\n",
              "    <tr>\n",
              "      <th>2023-03-09 19:00:00</th>\n",
              "      <td>0.3872</td>\n",
              "      <td>0.3873</td>\n",
              "      <td>0.3763</td>\n",
              "      <td>0.3788</td>\n",
              "      <td>55967457.0</td>\n",
              "      <td>416259431.8</td>\n",
              "      <td>1.611335e+08</td>\n",
              "      <td>24902898.80</td>\n",
              "      <td>39844638.08</td>\n",
              "      <td>True</td>\n",
              "      <td>...</td>\n",
              "      <td>9.486716e+06</td>\n",
              "      <td>True</td>\n",
              "      <td>0.3976</td>\n",
              "      <td>0.38695</td>\n",
              "      <td>0.3763</td>\n",
              "      <td>0.0213</td>\n",
              "      <td>True</td>\n",
              "      <td>False</td>\n",
              "      <td>v</td>\n",
              "      <td>False</td>\n",
              "    </tr>\n",
              "    <tr>\n",
              "      <th>2023-03-09 20:00:00</th>\n",
              "      <td>0.3788</td>\n",
              "      <td>0.3788</td>\n",
              "      <td>0.3639</td>\n",
              "      <td>0.3649</td>\n",
              "      <td>70347257.0</td>\n",
              "      <td>390329319.7</td>\n",
              "      <td>1.477538e+08</td>\n",
              "      <td>26968224.70</td>\n",
              "      <td>43149159.52</td>\n",
              "      <td>True</td>\n",
              "      <td>...</td>\n",
              "      <td>1.485651e+07</td>\n",
              "      <td>True</td>\n",
              "      <td>0.3976</td>\n",
              "      <td>0.38075</td>\n",
              "      <td>0.3639</td>\n",
              "      <td>0.0337</td>\n",
              "      <td>True</td>\n",
              "      <td>False</td>\n",
              "      <td>v</td>\n",
              "      <td>False</td>\n",
              "    </tr>\n",
              "    <tr>\n",
              "      <th>2023-03-11 07:00:00</th>\n",
              "      <td>0.3681</td>\n",
              "      <td>0.3687</td>\n",
              "      <td>0.3607</td>\n",
              "      <td>0.3626</td>\n",
              "      <td>37487084.0</td>\n",
              "      <td>331516901.2</td>\n",
              "      <td>1.218988e+08</td>\n",
              "      <td>18642363.35</td>\n",
              "      <td>29827781.36</td>\n",
              "      <td>True</td>\n",
              "      <td>...</td>\n",
              "      <td>5.129612e+06</td>\n",
              "      <td>True</td>\n",
              "      <td>0.3741</td>\n",
              "      <td>0.36740</td>\n",
              "      <td>0.3607</td>\n",
              "      <td>0.0134</td>\n",
              "      <td>True</td>\n",
              "      <td>False</td>\n",
              "      <td>v</td>\n",
              "      <td>False</td>\n",
              "    </tr>\n",
              "    <tr>\n",
              "      <th>2023-03-13 00:00:00</th>\n",
              "      <td>0.3713</td>\n",
              "      <td>0.3760</td>\n",
              "      <td>0.3679</td>\n",
              "      <td>0.3728</td>\n",
              "      <td>36924183.0</td>\n",
              "      <td>326582371.8</td>\n",
              "      <td>1.211954e+08</td>\n",
              "      <td>19529528.50</td>\n",
              "      <td>31247245.60</td>\n",
              "      <td>True</td>\n",
              "      <td>...</td>\n",
              "      <td>9.366824e+06</td>\n",
              "      <td>False</td>\n",
              "      <td>0.3760</td>\n",
              "      <td>0.36165</td>\n",
              "      <td>0.3473</td>\n",
              "      <td>0.0287</td>\n",
              "      <td>True</td>\n",
              "      <td>True</td>\n",
              "      <td>^</td>\n",
              "      <td>False</td>\n",
              "    </tr>\n",
              "  </tbody>\n",
              "</table>\n",
              "<p>11 rows × 34 columns</p>\n",
              "</div>\n",
              "      <button class=\"colab-df-convert\" onclick=\"convertToInteractive('df-b6f6f33a-4aa5-405d-a5d7-5db6be8ca2d7')\"\n",
              "              title=\"Convert this dataframe to an interactive table.\"\n",
              "              style=\"display:none;\">\n",
              "        \n",
              "  <svg xmlns=\"http://www.w3.org/2000/svg\" height=\"24px\"viewBox=\"0 0 24 24\"\n",
              "       width=\"24px\">\n",
              "    <path d=\"M0 0h24v24H0V0z\" fill=\"none\"/>\n",
              "    <path d=\"M18.56 5.44l.94 2.06.94-2.06 2.06-.94-2.06-.94-.94-2.06-.94 2.06-2.06.94zm-11 1L8.5 8.5l.94-2.06 2.06-.94-2.06-.94L8.5 2.5l-.94 2.06-2.06.94zm10 10l.94 2.06.94-2.06 2.06-.94-2.06-.94-.94-2.06-.94 2.06-2.06.94z\"/><path d=\"M17.41 7.96l-1.37-1.37c-.4-.4-.92-.59-1.43-.59-.52 0-1.04.2-1.43.59L10.3 9.45l-7.72 7.72c-.78.78-.78 2.05 0 2.83L4 21.41c.39.39.9.59 1.41.59.51 0 1.02-.2 1.41-.59l7.78-7.78 2.81-2.81c.8-.78.8-2.07 0-2.86zM5.41 20L4 18.59l7.72-7.72 1.47 1.35L5.41 20z\"/>\n",
              "  </svg>\n",
              "      </button>\n",
              "      \n",
              "  <style>\n",
              "    .colab-df-container {\n",
              "      display:flex;\n",
              "      flex-wrap:wrap;\n",
              "      gap: 12px;\n",
              "    }\n",
              "\n",
              "    .colab-df-convert {\n",
              "      background-color: #E8F0FE;\n",
              "      border: none;\n",
              "      border-radius: 50%;\n",
              "      cursor: pointer;\n",
              "      display: none;\n",
              "      fill: #1967D2;\n",
              "      height: 32px;\n",
              "      padding: 0 0 0 0;\n",
              "      width: 32px;\n",
              "    }\n",
              "\n",
              "    .colab-df-convert:hover {\n",
              "      background-color: #E2EBFA;\n",
              "      box-shadow: 0px 1px 2px rgba(60, 64, 67, 0.3), 0px 1px 3px 1px rgba(60, 64, 67, 0.15);\n",
              "      fill: #174EA6;\n",
              "    }\n",
              "\n",
              "    [theme=dark] .colab-df-convert {\n",
              "      background-color: #3B4455;\n",
              "      fill: #D2E3FC;\n",
              "    }\n",
              "\n",
              "    [theme=dark] .colab-df-convert:hover {\n",
              "      background-color: #434B5C;\n",
              "      box-shadow: 0px 1px 3px 1px rgba(0, 0, 0, 0.15);\n",
              "      filter: drop-shadow(0px 1px 2px rgba(0, 0, 0, 0.3));\n",
              "      fill: #FFFFFF;\n",
              "    }\n",
              "  </style>\n",
              "\n",
              "      <script>\n",
              "        const buttonEl =\n",
              "          document.querySelector('#df-b6f6f33a-4aa5-405d-a5d7-5db6be8ca2d7 button.colab-df-convert');\n",
              "        buttonEl.style.display =\n",
              "          google.colab.kernel.accessAllowed ? 'block' : 'none';\n",
              "\n",
              "        async function convertToInteractive(key) {\n",
              "          const element = document.querySelector('#df-b6f6f33a-4aa5-405d-a5d7-5db6be8ca2d7');\n",
              "          const dataTable =\n",
              "            await google.colab.kernel.invokeFunction('convertToInteractive',\n",
              "                                                     [key], {});\n",
              "          if (!dataTable) return;\n",
              "\n",
              "          const docLinkHtml = 'Like what you see? Visit the ' +\n",
              "            '<a target=\"_blank\" href=https://colab.research.google.com/notebooks/data_table.ipynb>data table notebook</a>'\n",
              "            + ' to learn more about interactive tables.';\n",
              "          element.innerHTML = '';\n",
              "          dataTable['output_type'] = 'display_data';\n",
              "          await google.colab.output.renderOutput(dataTable, element);\n",
              "          const docLink = document.createElement('div');\n",
              "          docLink.innerHTML = docLinkHtml;\n",
              "          element.appendChild(docLink);\n",
              "        }\n",
              "      </script>\n",
              "    </div>\n",
              "  </div>\n",
              "  "
            ]
          },
          "metadata": {},
          "execution_count": 37
        }
      ]
    },
    {
      "cell_type": "markdown",
      "source": [
        "Obtenemos el último precio de cierre de la última vela"
      ],
      "metadata": {
        "id": "RfDNmyFXd0g0"
      }
    },
    {
      "cell_type": "code",
      "source": [
        "last_close = df.Close.tail(1).values[0]"
      ],
      "metadata": {
        "id": "zkp0YyAGuE_f"
      },
      "execution_count": 38,
      "outputs": []
    },
    {
      "cell_type": "code",
      "source": [
        "last_close"
      ],
      "metadata": {
        "colab": {
          "base_uri": "https://localhost:8080/"
        },
        "id": "_XSnlaxHWnWz",
        "outputId": "9d554dff-045b-4774-9270-e558bf38814d"
      },
      "execution_count": 39,
      "outputs": [
        {
          "output_type": "execute_result",
          "data": {
            "text/plain": [
              "0.3724"
            ]
          },
          "metadata": {},
          "execution_count": 39
        }
      ]
    },
    {
      "cell_type": "markdown",
      "source": [
        "Opcional: Calculamos dos funciones para normalizar el OI y para poder plotear lineas verticales y horizontales más adelante"
      ],
      "metadata": {
        "id": "YWQeqm38d5Pb"
      }
    },
    {
      "cell_type": "code",
      "source": [
        "norm_oi = Normalize(vmin=min(df['sumOpenInterest']), vmax=max(df['sumOpenInterest']))\n",
        "norm_start_on = Normalize(vmin=min(df.index).timestamp(),vmax=max(df.index).timestamp())"
      ],
      "metadata": {
        "id": "_6oACC8dxNRj"
      },
      "execution_count": 40,
      "outputs": []
    },
    {
      "cell_type": "markdown",
      "source": [
        "Ploteamos el grafico del precio, junto con el del Open Interest, y por último los circulos que se imprimien en los momentos donde tenemos OI anormal o señales en el OI (ej: cuando el OI es mayor que 30M o bien crece más de 10%)"
      ],
      "metadata": {
        "id": "0p7Nl_WIeTKT"
      }
    },
    {
      "cell_type": "code",
      "source": [
        "plt.rcParams['figure.figsize'] = (20,10)\n",
        "fig, ax = plt.subplots()\n",
        "ax.plot(df.index,df.Close,label=\" Close\"+str(round(last_close,decimal_rounding)))\n",
        "# Ploteamos los circulos de colores. El tamaño de los circulos es funcion del sumOpenInterest\n",
        "ax.scatter(x=filtered.index,y=filtered.Close,s=100+(norm_oi(filtered.sumOpenInterest)*900),c=filtered.sumOpenInterest,norm=norm_oi,cmap=cm.plasma)\n",
        "\n",
        "\n",
        "plt.legend(loc='lower left')\n",
        "# Ploteamos el OI en otro nuevo eje Y, con el mismo eje X\n",
        "ax1 = ax.twinx()\n",
        "ax1.plot(df.index,df.sumOpenInterest,color='r',linestyle=':',label=\"OI \"+str(round(df.sumOpenInterest.tail(1).values[0])))\n",
        "plt.legend(loc='upper right')\n",
        "plt.title(symbol+\" + OPEN INTEREST HEATMAP (\"+str(timeframe)+\")\",fontsize=16)\n",
        "plt.tight_layout()"
      ],
      "metadata": {
        "id": "yOczWzcSMVKS",
        "colab": {
          "base_uri": "https://localhost:8080/",
          "height": 729
        },
        "outputId": "4f4b2634-88ed-47d7-9fde-ae8063710e73"
      },
      "execution_count": 41,
      "outputs": [
        {
          "output_type": "display_data",
          "data": {
            "text/plain": [
              "<Figure size 1440x720 with 2 Axes>"
            ],
            "image/png": "[encoded data removed]"
          },
          "metadata": {
            "needs_background": "light"
          }
        }
      ]
    },
    {
      "cell_type": "markdown",
      "source": [
        "Si te gustó y queres pasar por el canal de youtube para ver más como se fueron creando éstas funciones, y como seguirá el camino, te invito aqui: https://www.youtube.com/@rodrigoaprieto"
      ],
      "metadata": {
        "id": "5K_3SBXjfVQP"
      }
    }
  ]
}